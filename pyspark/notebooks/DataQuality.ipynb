{
 "cells": [
  {
   "cell_type": "code",
   "execution_count": 1,
   "id": "76e6e4a3-f9bb-49c9-bb25-5963b9dee01c",
   "metadata": {},
   "outputs": [],
   "source": [
    "from pyspark.sql import SparkSession\n",
    "import os\n",
    "\n",
    "os.environ[\"SPARK_VERSION\"] = '3.3'"
   ]
  },
  {
   "cell_type": "code",
   "execution_count": 2,
   "id": "d47ce7f6-d049-4354-bb43-a4055136ca29",
   "metadata": {},
   "outputs": [
    {
     "name": "stdout",
     "output_type": "stream",
     "text": [
      "Requirement already satisfied: pydeequ==1.5.0 in /opt/conda/lib/python3.11/site-packages (1.5.0)\n",
      "Requirement already satisfied: numpy>=1.14.1 in /opt/conda/lib/python3.11/site-packages (from pydeequ==1.5.0) (1.24.4)\n",
      "Requirement already satisfied: pandas>=0.23.0 in /opt/conda/lib/python3.11/site-packages (from pydeequ==1.5.0) (2.0.3)\n",
      "Requirement already satisfied: python-dateutil>=2.8.2 in /opt/conda/lib/python3.11/site-packages (from pandas>=0.23.0->pydeequ==1.5.0) (2.8.2)\n",
      "Requirement already satisfied: pytz>=2020.1 in /opt/conda/lib/python3.11/site-packages (from pandas>=0.23.0->pydeequ==1.5.0) (2023.3.post1)\n",
      "Requirement already satisfied: tzdata>=2022.1 in /opt/conda/lib/python3.11/site-packages (from pandas>=0.23.0->pydeequ==1.5.0) (2023.3)\n",
      "Requirement already satisfied: six>=1.5 in /opt/conda/lib/python3.11/site-packages (from python-dateutil>=2.8.2->pandas>=0.23.0->pydeequ==1.5.0) (1.16.0)\n"
     ]
    }
   ],
   "source": [
    "!pip install pydeequ==1.5.0"
   ]
  },
  {
   "cell_type": "code",
   "execution_count": 3,
   "id": "0fb7aea0-1934-4b73-8e8b-daeade00f807",
   "metadata": {},
   "outputs": [],
   "source": [
    "import pydeequ\n",
    "from pydeequ.analyzers import *"
   ]
  },
  {
   "cell_type": "code",
   "execution_count": 4,
   "id": "10f127ba-ed31-4024-af04-c9624afc2450",
   "metadata": {},
   "outputs": [],
   "source": [
    "spark = SparkSession.builder \\\n",
    "    .appName(\"acura_dq\") \\\n",
    "    .config(\"spark.jars\", \"/opt/spark/jars/postgresql-42.7.5.jar\") \\\n",
    "    .config(\"spark.jars.packages\", pydeequ.deequ_maven_coord) \\\n",
    "    .getOrCreate()\n",
    "\n",
    "jdbc_url = \"jdbc:postgresql://postgres-datastore:5432/acura_db\"\n",
    "properties = {\n",
    "    \"user\": \"acura_user\",\n",
    "    \"password\": \"password\",\n",
    "    \"driver\": \"org.postgresql.Driver\"\n",
    "}\n",
    "query = \"(SELECT * FROM public_integration.dev_itg_dataeng_cc_review_master) AS reviews\"\n",
    "df = spark.read.jdbc(url=jdbc_url, table=query, properties=properties)"
   ]
  },
  {
   "cell_type": "code",
   "execution_count": 5,
   "id": "a5b7325a-6917-4a88-8e36-97ceb7d67c4d",
   "metadata": {},
   "outputs": [
    {
     "data": {
      "text/plain": [
       "['card_name',\n",
       " 'platform_name',\n",
       " 'review_timestamp',\n",
       " 'review_id',\n",
       " 'review_customer_id',\n",
       " 'review_customer_name',\n",
       " 'review_rating_maximum',\n",
       " 'review_rating_given',\n",
       " 'review_raw_text']"
      ]
     },
     "execution_count": 5,
     "metadata": {},
     "output_type": "execute_result"
    }
   ],
   "source": [
    "df.columns"
   ]
  },
  {
   "cell_type": "code",
   "execution_count": 6,
   "id": "cfe81526-397b-4f58-8162-400f57ee0c51",
   "metadata": {},
   "outputs": [],
   "source": [
    "from pydeequ.profiles import *"
   ]
  },
  {
   "cell_type": "code",
   "execution_count": 18,
   "id": "824359a3-9507-47e5-a54f-3873899ae58a",
   "metadata": {},
   "outputs": [
    {
     "data": {
      "text/html": [
       "<div>\n",
       "<style scoped>\n",
       "    .dataframe tbody tr th:only-of-type {\n",
       "        vertical-align: middle;\n",
       "    }\n",
       "\n",
       "    .dataframe tbody tr th {\n",
       "        vertical-align: top;\n",
       "    }\n",
       "\n",
       "    .dataframe thead th {\n",
       "        text-align: right;\n",
       "    }\n",
       "</style>\n",
       "<table border=\"1\" class=\"dataframe\">\n",
       "  <thead>\n",
       "    <tr style=\"text-align: right;\">\n",
       "      <th></th>\n",
       "      <th>entity</th>\n",
       "      <th>instance</th>\n",
       "      <th>name</th>\n",
       "      <th>value</th>\n",
       "    </tr>\n",
       "  </thead>\n",
       "  <tbody>\n",
       "    <tr>\n",
       "      <th>0</th>\n",
       "      <td>Column</td>\n",
       "      <td>review_id</td>\n",
       "      <td>Distinctness</td>\n",
       "      <td>1.0</td>\n",
       "    </tr>\n",
       "  </tbody>\n",
       "</table>\n",
       "</div>"
      ],
      "text/plain": [
       "   entity   instance          name  value\n",
       "0  Column  review_id  Distinctness    1.0"
      ]
     },
     "execution_count": 18,
     "metadata": {},
     "output_type": "execute_result"
    }
   ],
   "source": [
    "analysisResult = AnalysisRunner(spark) \\\n",
    "                    .onData(df) \\\n",
    "                    .addAnalyzer(Size()) \\\n",
    "                    .addAnalyzer(Completeness(\"review_id\")) \\\n",
    "                    .addAnalyzer(Distinctness(\"review_id\")) \\\n",
    "                    .addAnalyzer(Mean(\"review_rating_given\")) \\\n",
    "                    .addAnalyzer(Compliance(\"top review_rating_given\", \"star_rating >= 4.0\")) \\\n",
    "                    .addAnalyzer(Correlation(\"platform_name\", \"review_rating_given\")) \\\n",
    "                    .run()\n",
    "\n",
    "analysisResult_df = AnalyzerContext.successMetricsAsDataFrame(spark, analysisResult).toPandas()\n",
    "analysisResult_df.head()"
   ]
  },
  {
   "cell_type": "code",
   "execution_count": 15,
   "id": "078088a4-c066-4ea2-818e-36bcbf2a002d",
   "metadata": {},
   "outputs": [
    {
     "name": "stderr",
     "output_type": "stream",
     "text": [
      "/usr/local/spark/python/pyspark/sql/dataframe.py:147: UserWarning: DataFrame constructor is internal. Do not directly use it.\n",
      "  warnings.warn(\"DataFrame constructor is internal. Do not directly use it.\")\n"
     ]
    }
   ],
   "source": [
    "from pydeequ.checks import *\n",
    "from pydeequ.verification import *\n",
    "\n",
    "check = Check(spark, CheckLevel.Warning, \"Rating Metadata\")\n",
    "\n",
    "checkResult = VerificationSuite(spark) \\\n",
    "    .onData(df) \\\n",
    "    .addCheck(\n",
    "        check.hasSize(lambda x: x >= 3000000) \\\n",
    "        .hasMin(\"review_rating_given\", lambda x: x == 1.0) \\\n",
    "        .hasMax(\"review_rating_given\", lambda x: x == 5.0)  \\\n",
    "        .isComplete(\"review_id\")  \\\n",
    "        .isUnique(\"review_id\")  \\\n",
    "        .isComplete(\"card_name\")  \\\n",
    "        .hasMin(\"review_year\", lambda x: x == '1996') \\\n",
    "        .hasMax(\"review_year\", lambda x: x == '2017')) \\\n",
    "    .run()\n",
    "    \n",
    "checkResult_df = VerificationResult.checkResultsAsDataFrame(spark,checkResult, pandas=True)"
   ]
  },
  {
   "cell_type": "code",
   "execution_count": 16,
   "id": "9f2711e9-9813-4946-bffe-cc222792b6f5",
   "metadata": {},
   "outputs": [
    {
     "data": {
      "text/html": [
       "<div>\n",
       "<style scoped>\n",
       "    .dataframe tbody tr th:only-of-type {\n",
       "        vertical-align: middle;\n",
       "    }\n",
       "\n",
       "    .dataframe tbody tr th {\n",
       "        vertical-align: top;\n",
       "    }\n",
       "\n",
       "    .dataframe thead th {\n",
       "        text-align: right;\n",
       "    }\n",
       "</style>\n",
       "<table border=\"1\" class=\"dataframe\">\n",
       "  <thead>\n",
       "    <tr style=\"text-align: right;\">\n",
       "      <th></th>\n",
       "      <th>check</th>\n",
       "      <th>check_level</th>\n",
       "      <th>check_status</th>\n",
       "      <th>constraint</th>\n",
       "      <th>constraint_status</th>\n",
       "      <th>constraint_message</th>\n",
       "    </tr>\n",
       "  </thead>\n",
       "  <tbody>\n",
       "    <tr>\n",
       "      <th>0</th>\n",
       "      <td>Rating Metadata</td>\n",
       "      <td>Warning</td>\n",
       "      <td>Warning</td>\n",
       "      <td>SizeConstraint(Size(None))</td>\n",
       "      <td>Failure</td>\n",
       "      <td>Value: 140 does not meet the constraint requir...</td>\n",
       "    </tr>\n",
       "    <tr>\n",
       "      <th>1</th>\n",
       "      <td>Rating Metadata</td>\n",
       "      <td>Warning</td>\n",
       "      <td>Warning</td>\n",
       "      <td>MinimumConstraint(Minimum(review_rating_given,...</td>\n",
       "      <td>Success</td>\n",
       "      <td></td>\n",
       "    </tr>\n",
       "    <tr>\n",
       "      <th>2</th>\n",
       "      <td>Rating Metadata</td>\n",
       "      <td>Warning</td>\n",
       "      <td>Warning</td>\n",
       "      <td>MaximumConstraint(Maximum(review_rating_given,...</td>\n",
       "      <td>Success</td>\n",
       "      <td></td>\n",
       "    </tr>\n",
       "    <tr>\n",
       "      <th>3</th>\n",
       "      <td>Rating Metadata</td>\n",
       "      <td>Warning</td>\n",
       "      <td>Warning</td>\n",
       "      <td>CompletenessConstraint(Completeness(review_id,...</td>\n",
       "      <td>Success</td>\n",
       "      <td></td>\n",
       "    </tr>\n",
       "    <tr>\n",
       "      <th>4</th>\n",
       "      <td>Rating Metadata</td>\n",
       "      <td>Warning</td>\n",
       "      <td>Warning</td>\n",
       "      <td>UniquenessConstraint(Uniqueness(List(review_id...</td>\n",
       "      <td>Success</td>\n",
       "      <td></td>\n",
       "    </tr>\n",
       "  </tbody>\n",
       "</table>\n",
       "</div>"
      ],
      "text/plain": [
       "             check check_level check_status  \\\n",
       "0  Rating Metadata     Warning      Warning   \n",
       "1  Rating Metadata     Warning      Warning   \n",
       "2  Rating Metadata     Warning      Warning   \n",
       "3  Rating Metadata     Warning      Warning   \n",
       "4  Rating Metadata     Warning      Warning   \n",
       "\n",
       "                                          constraint constraint_status  \\\n",
       "0                         SizeConstraint(Size(None))           Failure   \n",
       "1  MinimumConstraint(Minimum(review_rating_given,...           Success   \n",
       "2  MaximumConstraint(Maximum(review_rating_given,...           Success   \n",
       "3  CompletenessConstraint(Completeness(review_id,...           Success   \n",
       "4  UniquenessConstraint(Uniqueness(List(review_id...           Success   \n",
       "\n",
       "                                  constraint_message  \n",
       "0  Value: 140 does not meet the constraint requir...  \n",
       "1                                                     \n",
       "2                                                     \n",
       "3                                                     \n",
       "4                                                     "
      ]
     },
     "execution_count": 16,
     "metadata": {},
     "output_type": "execute_result"
    }
   ],
   "source": [
    "checkResult_df.head()"
   ]
  }
 ],
 "metadata": {
  "kernelspec": {
   "display_name": "Python 3 (ipykernel)",
   "language": "python",
   "name": "python3"
  },
  "language_info": {
   "codemirror_mode": {
    "name": "ipython",
    "version": 3
   },
   "file_extension": ".py",
   "mimetype": "text/x-python",
   "name": "python",
   "nbconvert_exporter": "python",
   "pygments_lexer": "ipython3",
   "version": "3.11.6"
  }
 },
 "nbformat": 4,
 "nbformat_minor": 5
}
